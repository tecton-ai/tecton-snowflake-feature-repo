{
 "cells": [
  {
   "cell_type": "markdown",
   "metadata": {
    "application/vnd.databricks.v1+cell": {
     "cellMetadata": {},
     "inputWidgets": {},
     "nuid": "ae2b392e-0ff2-4d02-bc31-0580712c9148",
     "showTitle": false,
     "title": ""
    }
   },
   "source": [
    "# Welcome to Tecton!\n",
    "\n",
    "We've designed this notebook to introduce you to the basic workflow of creating a feature view in Tecton, testing it, and pushing it to your Tecton instance when you're done."
   ]
  },
  {
   "cell_type": "markdown",
   "metadata": {},
   "source": [
    "# Prerequisites"
   ]
  },
  {
   "cell_type": "markdown",
   "metadata": {},
   "source": [
    "Before proceeding, do the following in a terminal:\n",
    "\n",
    "* Install a Python 3.8 interpreter. We need Python 3.8 since Snowflake's Snowpark module doesn't yet support 3.9+. We recommend using a fresh virtual environment for Tecton.\n",
    "* Install Tecton and pip requirements: `pip install -r requirements.txt`. We also provide a command to install the packages directly from this notebook in the \"Installation\" section below\n",
    "* Create a file called `.env` in the same folder as this Jupyter notebook consisting of the following two lines. Substitute \"user\" and \"password\" for your username and password on the Snowflake workspace to which you will be connecting. Do not include quote marks.\n",
    "```ini\n",
    "SNOWFLAKE_USER=user\n",
    "SNOWFLAKE_PASSWORD=password\n",
    "\n",
    "# Optionally include the next line if you want to run the real-time features REST API section\n",
    "REST_API_KEY=key\n",
    "```\n",
    "* Log in to your Tecton instance using the CLI, for example: `tecton login https://mycluster.tecton.ai`\n",
    "* Stop this Jupyter notebook session, and restart it"
   ]
  },
  {
   "cell_type": "markdown",
   "metadata": {
    "jp-MarkdownHeadingCollapsed": true,
    "tags": []
   },
   "source": [
    "# Installation"
   ]
  },
  {
   "cell_type": "markdown",
   "metadata": {},
   "source": [
    "You'll only need to run this once, but this will install the right packages for you to use Tecton on Snowflake.\n",
    "We suggest that you use a fresh virtual environment for this. Alternatively, you can run `pip install -r requirements.txt`\n",
    "to install from the requirements file."
   ]
  },
  {
   "cell_type": "code",
   "execution_count": null,
   "metadata": {
    "tags": []
   },
   "outputs": [],
   "source": [
    "import sys\n",
    "!{sys.executable} -m pip install 'tecton[snowpark]==0.6.0rc1' python-dotenv pandas snowflake-snowpark-python snowflake-connector-python"
   ]
  },
  {
   "cell_type": "markdown",
   "metadata": {
    "tags": []
   },
   "source": [
    "### Issues with cffi library"
   ]
  },
  {
   "cell_type": "markdown",
   "metadata": {
    "tags": []
   },
   "source": [
    "For certain Mac Apple Silicon users using Homebrew's libcffi, you may need to force MacOS to use a different `_cffi` library. \n",
    "\n",
    "1. Take note of the folder where Python is trying to load this module from, e.g. `~/.virtualenvs/tecton/lib/python3.8/site-packages/`.\n",
    "\n",
    "2. Run this command to download a fixed version: \n",
    "```sh\n",
    "$ curl https://tecton.ai.public.s3.us-west-2.amazonaws.com/training/_cffi_backend.cpython-38-darwin.so -o <folder>/_cffi_backend.cpython-38-darwin.so\n",
    "```\n",
    "\n",
    "3. Stop your Jupyter notebook environment and restart it"
   ]
  },
  {
   "cell_type": "markdown",
   "metadata": {
    "jp-MarkdownHeadingCollapsed": true,
    "tags": []
   },
   "source": [
    "# Initializing your session"
   ]
  },
  {
   "cell_type": "markdown",
   "metadata": {
    "tags": []
   },
   "source": [
    "## Logging into Tecton"
   ]
  },
  {
   "cell_type": "markdown",
   "metadata": {},
   "source": [
    "Load the Snowflake username and password environment variables"
   ]
  },
  {
   "cell_type": "code",
   "execution_count": 3,
   "metadata": {
    "tags": []
   },
   "outputs": [
    {
     "data": {
      "text/plain": [
       "True"
      ]
     },
     "execution_count": 3,
     "metadata": {},
     "output_type": "execute_result"
    }
   ],
   "source": [
    "from dotenv import load_dotenv, find_dotenv\n",
    "load_dotenv(find_dotenv())"
   ]
  },
  {
   "cell_type": "code",
   "execution_count": 4,
   "metadata": {
    "application/vnd.databricks.v1+cell": {
     "cellMetadata": {},
     "inputWidgets": {},
     "nuid": "a1f011d5-982e-48d9-a0d9-0426d0b4cdc0",
     "showTitle": false,
     "title": ""
    },
    "tags": []
   },
   "outputs": [
    {
     "name": "stdout",
     "output_type": "stream",
     "text": [
      "Version: 0.6.0rc1\n",
      "Git Commit: 8ad2ad31cc64df8768ae78815281c45532b53529\n",
      "Build Datetime: 2023-02-28T02:40:38\n"
     ]
    }
   ],
   "source": [
    "import tecton\n",
    "import logging\n",
    "import datetime\n",
    "import pandas as pd\n",
    "\n",
    "# Tell Tecton you're on Snowflake and that you want Tecton to validate your logic and data sources\n",
    "tecton.conf.set(\"ALPHA_SNOWFLAKE_COMPUTE_ENABLED\", True)\n",
    "tecton.set_validation_mode(\"auto\") # Defaults to \"explicit\"\n",
    "\n",
    "# Disable logging for snowflake connector and snowpark\n",
    "logging.getLogger('snowflake.connector').setLevel(logging.WARNING)\n",
    "logging.getLogger('snowflake.snowpark').setLevel(logging.WARNING)\n",
    "\n",
    "tecton.version.summary()"
   ]
  },
  {
   "cell_type": "code",
   "execution_count": null,
   "metadata": {
    "application/vnd.databricks.v1+cell": {
     "cellMetadata": {},
     "inputWidgets": {},
     "nuid": "16ad9d3b-aaee-4e98-abc7-e81365fad4ee",
     "showTitle": false,
     "title": ""
    },
    "tags": []
   },
   "outputs": [],
   "source": [
    "# Uncomment this if you have an API key you want to use\n",
    "# tecton.set_credentials(tecton_url='https://dev-snowflake.tecton.ai/api', tecton_api_key='<your api key>')\n",
    "\n",
    "# Use this call if you want to use the credentials already established via 'tecton login'\n",
    "tecton.set_credentials(tecton_url='https://dev-snowflake.tecton.ai/api')\n",
    "\n",
    "tecton.test_credentials()\n",
    "print(tecton.who_am_i())"
   ]
  },
  {
   "cell_type": "markdown",
   "metadata": {},
   "source": [
    "## Logging into Snowflake"
   ]
  },
  {
   "cell_type": "code",
   "execution_count": 6,
   "metadata": {
    "tags": []
   },
   "outputs": [
    {
     "data": {
      "text/plain": [
       "<tecton.snowflake_context.SnowflakeContext at 0x15dd42400>"
      ]
     },
     "execution_count": 6,
     "metadata": {},
     "output_type": "execute_result"
    }
   ],
   "source": [
    "import os\n",
    "import snowflake.connector\n",
    "\n",
    "connection_parameters = {\n",
    "    'user': os.environ['SNOWFLAKE_USER'],\n",
    "    'password': os.environ['SNOWFLAKE_PASSWORD'],\n",
    "    'account': 'tectonpartner',         # Replace with your own account\n",
    "    'warehouse': 'DEMO_WH',             # Replace with your own warehouse\n",
    "    'database': 'TECTON_DEMO_DATA',     # Replace with your own database\n",
    "    'schema': 'FRAUD',                  # Replace with your own schema\n",
    "}\n",
    "conn = snowflake.connector.connect(**connection_parameters)\n",
    "tecton.snowflake_context.set_connection(conn) # Tecton will use this Snowflake connection for all interactive queries"
   ]
  },
  {
   "cell_type": "code",
   "execution_count": 7,
   "metadata": {
    "tags": []
   },
   "outputs": [],
   "source": [
    "# Quick helper function to query snowflake from a notebook\n",
    "# Make sure to replace with the appropriate connection details for your own account\n",
    "def query_snowflake(query):\n",
    "    df = conn.cursor().execute(query).fetch_pandas_all()\n",
    "    return df"
   ]
  },
  {
   "cell_type": "markdown",
   "metadata": {
    "application/vnd.databricks.v1+cell": {
     "cellMetadata": {},
     "inputWidgets": {},
     "nuid": "38168c70-099a-4ad0-9314-f0b600c0c506",
     "showTitle": false,
     "title": ""
    },
    "jp-MarkdownHeadingCollapsed": true,
    "tags": []
   },
   "source": [
    "# Create feature view from scratch"
   ]
  },
  {
   "cell_type": "markdown",
   "metadata": {
    "application/vnd.databricks.v1+cell": {
     "cellMetadata": {},
     "inputWidgets": {},
     "nuid": "6d5356cf-c545-486a-8f0b-b990346d07fc",
     "showTitle": false,
     "title": ""
    },
    "jp-MarkdownHeadingCollapsed": true,
    "tags": []
   },
   "source": [
    "### Create data source (canned)"
   ]
  },
  {
   "cell_type": "markdown",
   "metadata": {},
   "source": [
    "In this case, we are creating a data source that consists of hardcoded values. You can load from Snowflake either via a `query` or a `table`. You just need `SELECT` access to whatever table you're loading from."
   ]
  },
  {
   "cell_type": "code",
   "execution_count": 8,
   "metadata": {
    "application/vnd.databricks.v1+cell": {
     "cellMetadata": {},
     "inputWidgets": {},
     "nuid": "6d5356cf-c545-486a-8f0b-b990346d07fc",
     "showTitle": false,
     "title": ""
    },
    "tags": []
   },
   "outputs": [],
   "source": [
    "transactions_batch = tecton.BatchSource(\n",
    "    name='transactions_batch',\n",
    "    \n",
    "    batch_config=tecton.SnowflakeConfig(\n",
    "      query=\"\"\"\n",
    "        SELECT USER_ID, TIMESTAMP, AMOUNT\n",
    "        FROM (\n",
    "          VALUES ('user_469998441571', TO_TIMESTAMP('2022-04-09 01:00:00'), 100), \n",
    "                 ('user_469998441571', TO_TIMESTAMP('2022-04-10 01:00:00'), 200), \n",
    "                 ('user_445755474326', TO_TIMESTAMP('2022-04-09 01:00:00'), 300), \n",
    "                 ('user_445755474326', TO_TIMESTAMP('2022-04-10 01:00:00'), 400) \n",
    "          AS DATA_VALUES (NAMEORIG, TIMESTAMP, AMT)\n",
    "        )\"\"\",\n",
    "        timestamp_field=\"TIMESTAMP\"\n",
    "    )\n",
    ")"
   ]
  },
  {
   "cell_type": "markdown",
   "metadata": {},
   "source": [
    "### Create data source (Snowflake)"
   ]
  },
  {
   "cell_type": "markdown",
   "metadata": {},
   "source": [
    "Loading a table from Snowflake (though this could also be a query)"
   ]
  },
  {
   "cell_type": "code",
   "execution_count": 8,
   "metadata": {},
   "outputs": [],
   "source": [
    "transactions_batch = tecton.BatchSource(\n",
    "    name='transactions_batch',\n",
    "    \n",
    "    batch_config=tecton.SnowflakeConfig(\n",
    "        database=\"TECTON_DEMO_DATA\",\n",
    "        schema=\"FRAUD_DEMO\",\n",
    "        table=\"TRANSACTIONS\",\n",
    "        timestamp_field=\"TIMESTAMP\"\n",
    "    )\n",
    ")"
   ]
  },
  {
   "cell_type": "markdown",
   "metadata": {},
   "source": [
    "### Inspect data source"
   ]
  },
  {
   "cell_type": "code",
   "execution_count": 9,
   "metadata": {
    "tags": []
   },
   "outputs": [
    {
     "name": "stdout",
     "output_type": "stream",
     "text": [
      "BatchSource 'transactions_batch': Deriving schema.\n",
      "BatchSource 'transactions_batch': Successfully validated.\n"
     ]
    },
    {
     "data": {
      "text/plain": [
       "['USER_ID',\n",
       " 'TRANSACTION_ID',\n",
       " 'CATEGORY',\n",
       " 'AMT',\n",
       " 'IS_FRAUD',\n",
       " 'MERCHANT',\n",
       " 'MERCH_LAT',\n",
       " 'MERCH_LONG',\n",
       " 'TIMESTAMP']"
      ]
     },
     "execution_count": 9,
     "metadata": {},
     "output_type": "execute_result"
    }
   ],
   "source": [
    "transactions_batch.get_columns()"
   ]
  },
  {
   "cell_type": "markdown",
   "metadata": {},
   "source": [
    "### Create the entity and feature view logic"
   ]
  },
  {
   "cell_type": "markdown",
   "metadata": {},
   "source": [
    "Now that we have our data source created, we can now create our feature view, which contains both the transformation logic we want to run on our data source as well as orchestration parameters."
   ]
  },
  {
   "cell_type": "markdown",
   "metadata": {},
   "source": [
    "An **entity** just tells Tecton what the join key is, in this case the `USER_ID` column. Tecton will check to make sure this column(s) exist after running our transformation logic, so we need to make sure we return a `USER_ID` column from our feature view"
   ]
  },
  {
   "cell_type": "code",
   "execution_count": 10,
   "metadata": {
    "tags": []
   },
   "outputs": [],
   "source": [
    "user = tecton.Entity(\n",
    "    name='fraud_user',\n",
    "    join_keys=['USER_ID']\n",
    ")"
   ]
  },
  {
   "cell_type": "markdown",
   "metadata": {},
   "source": [
    "A **transformation** is a piece of Snowflake logic that takes as input some data sources and outputs a table. We can also string multiple (reusable) transformation blocks together."
   ]
  },
  {
   "cell_type": "code",
   "execution_count": 11,
   "metadata": {
    "application/vnd.databricks.v1+cell": {
     "cellMetadata": {},
     "inputWidgets": {},
     "nuid": "6d5356cf-c545-486a-8f0b-b990346d07fc",
     "showTitle": false,
     "title": ""
    },
    "tags": []
   },
   "outputs": [],
   "source": [
    "@tecton.transformation(mode=\"snowflake_sql\")\n",
    "def transactions_transformation(transactions_batch, amt_to_add):\n",
    "    return f'''\n",
    "        SELECT\n",
    "            TIMESTAMP,\n",
    "            USER_ID,\n",
    "            AMT,\n",
    "            AMT + {amt_to_add} as AMT_PLUS_X\n",
    "        FROM\n",
    "            {transactions_batch}\n",
    "        '''"
   ]
  },
  {
   "cell_type": "markdown",
   "metadata": {},
   "source": [
    "A **batch_feature_view** ties it all together: we specify the data source, entity, and call the transformation we defined above, plus we add in what storage layer Tecton should write this data to and how frequently Tecton should run this logic against new data."
   ]
  },
  {
   "cell_type": "code",
   "execution_count": 12,
   "metadata": {
    "application/vnd.databricks.v1+cell": {
     "cellMetadata": {},
     "inputWidgets": {},
     "nuid": "6d5356cf-c545-486a-8f0b-b990346d07fc",
     "showTitle": false,
     "title": ""
    },
    "tags": []
   },
   "outputs": [],
   "source": [
    "@tecton.batch_feature_view(\n",
    "    sources=[tecton.FilteredSource(transactions_batch)],\n",
    "    entities=[user],\n",
    "    mode='snowflake_sql',\n",
    "    online=False,\n",
    "    offline=False,\n",
    "    feature_start_time=datetime.datetime(2022, 4, 1),\n",
    "    batch_schedule=datetime.timedelta(days=1),\n",
    "    ttl=datetime.timedelta(days=30),\n",
    "    description='Last user transaction amount (batch calculated)',\n",
    ")\n",
    "def last_transaction_amount_batch(transactions_batch):\n",
    "    return f'''\n",
    "        SELECT\n",
    "            TIMESTAMP,\n",
    "            USER_ID,\n",
    "            AMT,\n",
    "            AMT + 2 as AMT_PLUS_X\n",
    "        FROM\n",
    "            {transactions_batch}\n",
    "        '''"
   ]
  },
  {
   "cell_type": "markdown",
   "metadata": {
    "jp-MarkdownHeadingCollapsed": true,
    "tags": []
   },
   "source": [
    "## Test our feature view"
   ]
  },
  {
   "cell_type": "markdown",
   "metadata": {},
   "source": [
    "Now let's see what kind of data we get back from our feature view"
   ]
  },
  {
   "cell_type": "code",
   "execution_count": 13,
   "metadata": {
    "tags": []
   },
   "outputs": [
    {
     "name": "stdout",
     "output_type": "stream",
     "text": [
      "BatchFeatureView 'last_transaction_amount_batch': Validating 2 of 3 dependencies. (1 already validated)\n",
      "    Entity 'fraud_user': Successfully validated.\n",
      "    Transformation 'last_transaction_amount_batch': Successfully validated.\n",
      "BatchFeatureView 'last_transaction_amount_batch': Successfully validated.\n"
     ]
    },
    {
     "name": "stderr",
     "output_type": "stream",
     "text": [
      "INFO - 02/28/2023 02:51:32 PM - FeatureView - 1 Feature View is being computed directly from raw data sources.\n"
     ]
    }
   ],
   "source": [
    "tdf = last_transaction_amount_batch.get_historical_features()"
   ]
  },
  {
   "cell_type": "markdown",
   "metadata": {},
   "source": [
    "Our output is a Tecton dataframe and we're going to save this as a Snowpark dataframe. [Snowpark](https://www.snowflake.com/en/data-cloud/snowpark/) is like Spark on Snowflake (get it?) and the Spark dataframe methods you might be familiar with you can use here. Working in Snowpark is a good idea if you're going to be examining a Tecton query that could be bringing back a large set of results."
   ]
  },
  {
   "cell_type": "code",
   "execution_count": 16,
   "metadata": {
    "tags": []
   },
   "outputs": [],
   "source": [
    "sdf = tdf.to_snowpark()"
   ]
  },
  {
   "cell_type": "code",
   "execution_count": 17,
   "metadata": {
    "tags": []
   },
   "outputs": [
    {
     "data": {
      "text/plain": [
       "snowflake.snowpark.dataframe.DataFrame"
      ]
     },
     "execution_count": 17,
     "metadata": {},
     "output_type": "execute_result"
    }
   ],
   "source": [
    "type(sdf)"
   ]
  },
  {
   "cell_type": "code",
   "execution_count": 18,
   "metadata": {
    "tags": []
   },
   "outputs": [
    {
     "name": "stdout",
     "output_type": "stream",
     "text": [
      "--------------------------------------------------------------------------------\n",
      "|\"TIMESTAMP\"                 |\"USER_ID\"          |\"AMT\"   |\"AMT_PLUS_X\"        |\n",
      "--------------------------------------------------------------------------------\n",
      "|2022-04-08 06:32:38.392967  |user_212730160038  |64.48   |66.48               |\n",
      "|2022-04-08 06:32:40.793482  |user_722584453020  |4.16    |6.16                |\n",
      "|2022-04-08 06:32:43.953836  |user_939970169861  |66.4    |68.4                |\n",
      "|2022-04-08 06:32:46.167030  |user_699668125818  |1.23    |3.23                |\n",
      "|2022-04-08 06:32:47.728294  |user_939970169861  |1.28    |3.2800000000000002  |\n",
      "|2022-04-08 06:32:50.484319  |user_461615966685  |89.61   |91.61               |\n",
      "|2022-04-08 06:32:52.296845  |user_574612776685  |157.91  |159.91              |\n",
      "|2022-04-08 06:32:54.209728  |user_222506789984  |45.76   |47.76               |\n",
      "|2022-04-08 06:32:56.107644  |user_337750317412  |2.3     |4.3                 |\n",
      "|2022-04-08 06:32:58.344456  |user_934384811883  |115.32  |117.32              |\n",
      "--------------------------------------------------------------------------------\n",
      "\n"
     ]
    }
   ],
   "source": [
    "sdf.limit(10).show()"
   ]
  },
  {
   "cell_type": "markdown",
   "metadata": {},
   "source": [
    "You can always convert a Snowpark dataframe into a Pandas dataframe and continue. Or, you can convert a Tecton dataframe directly to a pandas dataframe.. just make sure you're not unloading an entire table!"
   ]
  },
  {
   "cell_type": "code",
   "execution_count": 19,
   "metadata": {
    "tags": []
   },
   "outputs": [],
   "source": [
    "pdf = sdf.limit(10).to_pandas()"
   ]
  },
  {
   "cell_type": "code",
   "execution_count": 20,
   "metadata": {
    "tags": []
   },
   "outputs": [
    {
     "data": {
      "text/plain": [
       "pandas.core.frame.DataFrame"
      ]
     },
     "execution_count": 20,
     "metadata": {},
     "output_type": "execute_result"
    }
   ],
   "source": [
    "type(pdf)"
   ]
  },
  {
   "cell_type": "code",
   "execution_count": 21,
   "metadata": {
    "tags": []
   },
   "outputs": [
    {
     "data": {
      "text/html": [
       "<div>\n",
       "<style scoped>\n",
       "    .dataframe tbody tr th:only-of-type {\n",
       "        vertical-align: middle;\n",
       "    }\n",
       "\n",
       "    .dataframe tbody tr th {\n",
       "        vertical-align: top;\n",
       "    }\n",
       "\n",
       "    .dataframe thead th {\n",
       "        text-align: right;\n",
       "    }\n",
       "</style>\n",
       "<table border=\"1\" class=\"dataframe\">\n",
       "  <thead>\n",
       "    <tr style=\"text-align: right;\">\n",
       "      <th></th>\n",
       "      <th>TIMESTAMP</th>\n",
       "      <th>USER_ID</th>\n",
       "      <th>AMT</th>\n",
       "      <th>AMT_PLUS_X</th>\n",
       "    </tr>\n",
       "  </thead>\n",
       "  <tbody>\n",
       "    <tr>\n",
       "      <th>0</th>\n",
       "      <td>2022-04-08 06:32:38.392967</td>\n",
       "      <td>user_212730160038</td>\n",
       "      <td>64.48</td>\n",
       "      <td>66.48</td>\n",
       "    </tr>\n",
       "    <tr>\n",
       "      <th>1</th>\n",
       "      <td>2022-04-08 06:32:40.793482</td>\n",
       "      <td>user_722584453020</td>\n",
       "      <td>4.16</td>\n",
       "      <td>6.16</td>\n",
       "    </tr>\n",
       "    <tr>\n",
       "      <th>2</th>\n",
       "      <td>2022-04-08 06:32:43.953836</td>\n",
       "      <td>user_939970169861</td>\n",
       "      <td>66.40</td>\n",
       "      <td>68.40</td>\n",
       "    </tr>\n",
       "    <tr>\n",
       "      <th>3</th>\n",
       "      <td>2022-04-08 06:32:46.167030</td>\n",
       "      <td>user_699668125818</td>\n",
       "      <td>1.23</td>\n",
       "      <td>3.23</td>\n",
       "    </tr>\n",
       "    <tr>\n",
       "      <th>4</th>\n",
       "      <td>2022-04-08 06:32:47.728294</td>\n",
       "      <td>user_939970169861</td>\n",
       "      <td>1.28</td>\n",
       "      <td>3.28</td>\n",
       "    </tr>\n",
       "    <tr>\n",
       "      <th>5</th>\n",
       "      <td>2022-04-08 06:32:50.484319</td>\n",
       "      <td>user_461615966685</td>\n",
       "      <td>89.61</td>\n",
       "      <td>91.61</td>\n",
       "    </tr>\n",
       "    <tr>\n",
       "      <th>6</th>\n",
       "      <td>2022-04-08 06:32:52.296845</td>\n",
       "      <td>user_574612776685</td>\n",
       "      <td>157.91</td>\n",
       "      <td>159.91</td>\n",
       "    </tr>\n",
       "    <tr>\n",
       "      <th>7</th>\n",
       "      <td>2022-04-08 06:32:54.209728</td>\n",
       "      <td>user_222506789984</td>\n",
       "      <td>45.76</td>\n",
       "      <td>47.76</td>\n",
       "    </tr>\n",
       "    <tr>\n",
       "      <th>8</th>\n",
       "      <td>2022-04-08 06:32:56.107644</td>\n",
       "      <td>user_337750317412</td>\n",
       "      <td>2.30</td>\n",
       "      <td>4.30</td>\n",
       "    </tr>\n",
       "    <tr>\n",
       "      <th>9</th>\n",
       "      <td>2022-04-08 06:32:58.344456</td>\n",
       "      <td>user_934384811883</td>\n",
       "      <td>115.32</td>\n",
       "      <td>117.32</td>\n",
       "    </tr>\n",
       "  </tbody>\n",
       "</table>\n",
       "</div>"
      ],
      "text/plain": [
       "                   TIMESTAMP            USER_ID     AMT  AMT_PLUS_X\n",
       "0 2022-04-08 06:32:38.392967  user_212730160038   64.48       66.48\n",
       "1 2022-04-08 06:32:40.793482  user_722584453020    4.16        6.16\n",
       "2 2022-04-08 06:32:43.953836  user_939970169861   66.40       68.40\n",
       "3 2022-04-08 06:32:46.167030  user_699668125818    1.23        3.23\n",
       "4 2022-04-08 06:32:47.728294  user_939970169861    1.28        3.28\n",
       "5 2022-04-08 06:32:50.484319  user_461615966685   89.61       91.61\n",
       "6 2022-04-08 06:32:52.296845  user_574612776685  157.91      159.91\n",
       "7 2022-04-08 06:32:54.209728  user_222506789984   45.76       47.76\n",
       "8 2022-04-08 06:32:56.107644  user_337750317412    2.30        4.30\n",
       "9 2022-04-08 06:32:58.344456  user_934384811883  115.32      117.32"
      ]
     },
     "execution_count": 21,
     "metadata": {},
     "output_type": "execute_result"
    }
   ],
   "source": [
    "pdf"
   ]
  },
  {
   "cell_type": "markdown",
   "metadata": {
    "jp-MarkdownHeadingCollapsed": true,
    "tags": []
   },
   "source": [
    "# Append our feature view to a remote feature service"
   ]
  },
  {
   "cell_type": "markdown",
   "metadata": {},
   "source": [
    "## Get v1 of our feature service remotely from Tecton"
   ]
  },
  {
   "cell_type": "code",
   "execution_count": 22,
   "metadata": {
    "tags": []
   },
   "outputs": [],
   "source": [
    "ws = tecton.get_workspace('workshop-jack')"
   ]
  },
  {
   "cell_type": "code",
   "execution_count": 23,
   "metadata": {
    "tags": []
   },
   "outputs": [
    {
     "data": {
      "text/plain": [
       "['fraud_detection_feature_service']"
      ]
     },
     "execution_count": 23,
     "metadata": {},
     "output_type": "execute_result"
    }
   ],
   "source": [
    "ws.list_feature_services()"
   ]
  },
  {
   "cell_type": "code",
   "execution_count": 24,
   "metadata": {
    "tags": []
   },
   "outputs": [],
   "source": [
    "fs = ws.get_feature_service('fraud_detection_feature_service')"
   ]
  },
  {
   "cell_type": "code",
   "execution_count": 25,
   "metadata": {
    "tags": []
   },
   "outputs": [
    {
     "data": {
      "text/html": [
       "\n",
       "<table>\n",
       "<thead>\n",
       "    <tr>\n",
       "    \n",
       "    </tr>\n",
       "</thead>\n",
       "<tbody>\n",
       "    \n",
       "    <tr>\n",
       "        \n",
       "        \n",
       "        <td style='text-align: left;'>Name</td>\n",
       "        \n",
       "        \n",
       "        \n",
       "        <td style='text-align: left;'>fraud_detection_feature_service</td>\n",
       "        \n",
       "        \n",
       "    </tr>\n",
       "    \n",
       "    <tr>\n",
       "        \n",
       "        \n",
       "        <td style='text-align: left;'>Owner</td>\n",
       "        \n",
       "        \n",
       "        \n",
       "        <td style='text-align: left;'></td>\n",
       "        \n",
       "        \n",
       "    </tr>\n",
       "    \n",
       "    <tr>\n",
       "        \n",
       "        \n",
       "        <td style='text-align: left;'>Last Updated By</td>\n",
       "        \n",
       "        \n",
       "        \n",
       "        <td style='text-align: left;'>jack@tecton.ai</td>\n",
       "        \n",
       "        \n",
       "    </tr>\n",
       "    \n",
       "    <tr>\n",
       "        \n",
       "        \n",
       "        <td style='text-align: left;'>Description</td>\n",
       "        \n",
       "        \n",
       "        \n",
       "        <td style='text-align: left;'></td>\n",
       "        \n",
       "        \n",
       "    </tr>\n",
       "    \n",
       "    <tr>\n",
       "        \n",
       "        \n",
       "        <td style='text-align: left;'>Entities</td>\n",
       "        \n",
       "        \n",
       "        \n",
       "        <td style='text-align: left;'>[&#39;fraud_user&#39;, &#39;category&#39;]</td>\n",
       "        \n",
       "        \n",
       "    </tr>\n",
       "    \n",
       "    <tr>\n",
       "        \n",
       "        \n",
       "        <td style='text-align: left;'>Online Serving</td>\n",
       "        \n",
       "        \n",
       "        \n",
       "        <td style='text-align: left;'>Enabled</td>\n",
       "        \n",
       "        \n",
       "    </tr>\n",
       "    \n",
       "    <tr>\n",
       "        \n",
       "        \n",
       "        <td style='text-align: left;'>Logging</td>\n",
       "        \n",
       "        \n",
       "        \n",
       "        <td style='text-align: left;'>Disabled</td>\n",
       "        \n",
       "        \n",
       "    </tr>\n",
       "    \n",
       "    <tr>\n",
       "        \n",
       "        \n",
       "        <td style='text-align: left;'>Online Join Keys</td>\n",
       "        \n",
       "        \n",
       "        \n",
       "        <td style='text-align: left;'>USER_ID, CATEGORY</td>\n",
       "        \n",
       "        \n",
       "    </tr>\n",
       "    \n",
       "    <tr>\n",
       "        \n",
       "        \n",
       "        <td style='text-align: left;'>Offline Join Keys</td>\n",
       "        \n",
       "        \n",
       "        \n",
       "        <td style='text-align: left;'>USER_ID, CATEGORY</td>\n",
       "        \n",
       "        \n",
       "    </tr>\n",
       "    \n",
       "    <tr>\n",
       "        \n",
       "        \n",
       "        <td style='text-align: left;'>Request Context Keys</td>\n",
       "        \n",
       "        \n",
       "        \n",
       "        <td style='text-align: left;'></td>\n",
       "        \n",
       "        \n",
       "    </tr>\n",
       "    \n",
       "    <tr>\n",
       "        \n",
       "        \n",
       "        <td style='text-align: left;'>Defined In</td>\n",
       "        \n",
       "        \n",
       "        \n",
       "        <td style='text-align: left;'>feature_services/fraud_detection.py</td>\n",
       "        \n",
       "        \n",
       "    </tr>\n",
       "    \n",
       "    <tr>\n",
       "        \n",
       "        \n",
       "        <td style='text-align: left;'>Features</td>\n",
       "        \n",
       "        \n",
       "        \n",
       "        <td style='text-align: left;'>[&#39;user_transaction_metrics.TRANSACTION_SUM_1D_1D&#39;, &#39;user_transaction_metrics.TRANSACTION_SUM_3D_1D&#39;, &#39;user_transaction_metrics.TRANSACTION_SUM_7D_1D&#39;, &#39;user_transaction_metrics.TRANSACTION_SUM_40D_1D&#39;, &#39;user_transaction_metrics.AMT_MEAN_1D_1D&#39;, &#39;user_transaction_metrics.AMT_MEAN_3D_1D&#39;, &#39;user_transaction_metrics.AMT_MEAN_7D_1D&#39;, &#39;user_transaction_metrics.AMT_MEAN_40D_1D&#39;, &#39;user_category_count.TRANSACTION_SUM_1D_1D&#39;, &#39;user_category_count.TRANSACTION_SUM_3D_1D&#39;, &#39;user_category_count.TRANSACTION_SUM_7D_1D&#39;, &#39;user_category_count.TRANSACTION_SUM_40D_1D&#39;]</td>\n",
       "        \n",
       "        \n",
       "    </tr>\n",
       "    \n",
       "</tbody>\n",
       "</table>"
      ],
      "text/plain": [
       "+----------------------+-------------------------------------------------------+\n",
       "| Name                 | fraud_detection_feature_service                       |\n",
       "+----------------------+-------------------------------------------------------+\n",
       "| Owner                |                                                       |\n",
       "+----------------------+-------------------------------------------------------+\n",
       "| Last Updated By      | jack@tecton.ai                                        |\n",
       "+----------------------+-------------------------------------------------------+\n",
       "| Description          |                                                       |\n",
       "+----------------------+-------------------------------------------------------+\n",
       "| Entities             | ['fraud_user', 'category']                            |\n",
       "+----------------------+-------------------------------------------------------+\n",
       "| Online Serving       | Enabled                                               |\n",
       "+----------------------+-------------------------------------------------------+\n",
       "| Logging              | Disabled                                              |\n",
       "+----------------------+-------------------------------------------------------+\n",
       "| Online Join Keys     | USER_ID, CATEGORY                                     |\n",
       "+----------------------+-------------------------------------------------------+\n",
       "| Offline Join Keys    | USER_ID, CATEGORY                                     |\n",
       "+----------------------+-------------------------------------------------------+\n",
       "| Request Context Keys |                                                       |\n",
       "+----------------------+-------------------------------------------------------+\n",
       "| Defined In           | feature_services/fraud_detection.py                   |\n",
       "+----------------------+-------------------------------------------------------+\n",
       "| Features             | ['user_transaction_metrics.TRANSACTION_SUM_1D_1D',    |\n",
       "|                      | 'user_transaction_metrics.TRANSACTION_SUM_3D_1D',     |\n",
       "|                      | 'user_transaction_metrics.TRANSACTION_SUM_7D_1D',     |\n",
       "|                      | 'user_transaction_metrics.TRANSACTION_SUM_40D_1D',    |\n",
       "|                      | 'user_transaction_metrics.AMT_MEAN_1D_1D',            |\n",
       "|                      | 'user_transaction_metrics.AMT_MEAN_3D_1D',            |\n",
       "|                      | 'user_transaction_metrics.AMT_MEAN_7D_1D',            |\n",
       "|                      | 'user_transaction_metrics.AMT_MEAN_40D_1D',           |\n",
       "|                      | 'user_category_count.TRANSACTION_SUM_1D_1D',          |\n",
       "|                      | 'user_category_count.TRANSACTION_SUM_3D_1D',          |\n",
       "|                      | 'user_category_count.TRANSACTION_SUM_7D_1D',          |\n",
       "|                      | 'user_category_count.TRANSACTION_SUM_40D_1D']         |\n",
       "+----------------------+-------------------------------------------------------+"
      ]
     },
     "execution_count": 25,
     "metadata": {},
     "output_type": "execute_result"
    }
   ],
   "source": [
    "fs.summary()"
   ]
  },
  {
   "cell_type": "markdown",
   "metadata": {},
   "source": [
    "## Modify our new feature view to use the existing data source"
   ]
  },
  {
   "cell_type": "markdown",
   "metadata": {},
   "source": [
    "We only created the data source above from scratch because it's worth going seeing what the whole flow looks like. But doing this for real, let's use what we've already got!"
   ]
  },
  {
   "cell_type": "code",
   "execution_count": 26,
   "metadata": {
    "tags": []
   },
   "outputs": [
    {
     "data": {
      "text/plain": [
       "['transactions', 'users']"
      ]
     },
     "execution_count": 26,
     "metadata": {},
     "output_type": "execute_result"
    }
   ],
   "source": [
    "ws.list_data_sources()"
   ]
  },
  {
   "cell_type": "code",
   "execution_count": 27,
   "metadata": {
    "tags": []
   },
   "outputs": [
    {
     "data": {
      "text/plain": [
       "['category', 'fraud_user', 'merchant']"
      ]
     },
     "execution_count": 27,
     "metadata": {},
     "output_type": "execute_result"
    }
   ],
   "source": [
    "ws.list_entities()"
   ]
  },
  {
   "cell_type": "code",
   "execution_count": 28,
   "metadata": {
    "tags": []
   },
   "outputs": [
    {
     "data": {
      "text/html": [
       "\n",
       "<table>\n",
       "<thead>\n",
       "    <tr>\n",
       "    \n",
       "    </tr>\n",
       "</thead>\n",
       "<tbody>\n",
       "    \n",
       "    <tr>\n",
       "        \n",
       "        \n",
       "        <td style='text-align: left;'>Name</td>\n",
       "        \n",
       "        \n",
       "        \n",
       "        <td style='text-align: left;'>fraud_user</td>\n",
       "        \n",
       "        \n",
       "    </tr>\n",
       "    \n",
       "    <tr>\n",
       "        \n",
       "        \n",
       "        <td style='text-align: left;'>Workspace</td>\n",
       "        \n",
       "        \n",
       "        \n",
       "        <td style='text-align: left;'>workshop-jack</td>\n",
       "        \n",
       "        \n",
       "    </tr>\n",
       "    \n",
       "    <tr>\n",
       "        \n",
       "        \n",
       "        <td style='text-align: left;'>Description</td>\n",
       "        \n",
       "        \n",
       "        \n",
       "        <td style='text-align: left;'>A user of the platform</td>\n",
       "        \n",
       "        \n",
       "    </tr>\n",
       "    \n",
       "    <tr>\n",
       "        \n",
       "        \n",
       "        <td style='text-align: left;'>Created At</td>\n",
       "        \n",
       "        \n",
       "        \n",
       "        <td style='text-align: left;'>2023-02-28 00:58:05 UTC</td>\n",
       "        \n",
       "        \n",
       "    </tr>\n",
       "    \n",
       "    <tr>\n",
       "        \n",
       "        \n",
       "        <td style='text-align: left;'>Owner</td>\n",
       "        \n",
       "        \n",
       "        \n",
       "        <td style='text-align: left;'>matt@tecton.ai</td>\n",
       "        \n",
       "        \n",
       "    </tr>\n",
       "    \n",
       "    <tr>\n",
       "        \n",
       "        \n",
       "        <td style='text-align: left;'>Last Modified By</td>\n",
       "        \n",
       "        \n",
       "        \n",
       "        <td style='text-align: left;'>jack@tecton.ai</td>\n",
       "        \n",
       "        \n",
       "    </tr>\n",
       "    \n",
       "    <tr>\n",
       "        \n",
       "        \n",
       "        <td style='text-align: left;'>Source Filename</td>\n",
       "        \n",
       "        \n",
       "        \n",
       "        <td style='text-align: left;'>entities.py</td>\n",
       "        \n",
       "        \n",
       "    </tr>\n",
       "    \n",
       "    <tr>\n",
       "        \n",
       "        \n",
       "        <td style='text-align: left;'>Tags</td>\n",
       "        \n",
       "        \n",
       "        \n",
       "        <td style='text-align: left;'>release   production</td>\n",
       "        \n",
       "        \n",
       "    </tr>\n",
       "    \n",
       "    <tr>\n",
       "        \n",
       "        \n",
       "        <td style='text-align: left;'>Join Keys</td>\n",
       "        \n",
       "        \n",
       "        \n",
       "        <td style='text-align: left;'>   USER_ID</td>\n",
       "        \n",
       "        \n",
       "    </tr>\n",
       "    \n",
       "</tbody>\n",
       "</table>"
      ],
      "text/plain": [
       "+------------------+-------------------------+\n",
       "| Name             | fraud_user              |\n",
       "+------------------+-------------------------+\n",
       "| Workspace        | workshop-jack           |\n",
       "+------------------+-------------------------+\n",
       "| Description      | A user of the platform  |\n",
       "+------------------+-------------------------+\n",
       "| Created At       | 2023-02-28 00:58:05 UTC |\n",
       "+------------------+-------------------------+\n",
       "| Owner            | matt@tecton.ai          |\n",
       "+------------------+-------------------------+\n",
       "| Last Modified By | jack@tecton.ai          |\n",
       "+------------------+-------------------------+\n",
       "| Source Filename  | entities.py             |\n",
       "+------------------+-------------------------+\n",
       "| Tags             | release   production    |\n",
       "+------------------+-------------------------+\n",
       "| Join Keys        |    USER_ID              |\n",
       "+------------------+-------------------------+"
      ]
     },
     "execution_count": 28,
     "metadata": {},
     "output_type": "execute_result"
    }
   ],
   "source": [
    "ws.get_entity('fraud_user').summary()"
   ]
  },
  {
   "cell_type": "code",
   "execution_count": 29,
   "metadata": {
    "tags": []
   },
   "outputs": [],
   "source": [
    "@tecton.batch_feature_view(\n",
    "    sources=[tecton.FilteredSource(ws.get_data_source('transactions'))],\n",
    "    entities=[ws.get_entity('fraud_user')],\n",
    "    mode='snowflake_sql',\n",
    "    online=False,\n",
    "    offline=False,\n",
    "    feature_start_time=datetime.datetime(2022, 4, 1),\n",
    "    batch_schedule=datetime.timedelta(days=1),\n",
    "    ttl=datetime.timedelta(days=30),\n",
    "    description='Last user transaction amount (batch calculated)'\n",
    ")\n",
    "def last_transaction_amount_batch_remote(transactions_batch):\n",
    "    return f'''\n",
    "        SELECT\n",
    "            TIMESTAMP,\n",
    "            USER_ID,\n",
    "            AMT,\n",
    "            AMT + 2 as AMT_PLUS_X\n",
    "        FROM\n",
    "            {transactions_batch}\n",
    "        '''"
   ]
  },
  {
   "cell_type": "markdown",
   "metadata": {},
   "source": [
    "## Create v2 of the feature service by appending our new (remote) feature view"
   ]
  },
  {
   "cell_type": "code",
   "execution_count": 48,
   "metadata": {
    "tags": []
   },
   "outputs": [],
   "source": [
    "fs_v2 = tecton.FeatureService(\n",
    "    name='fraud_detection_feature_service_v2',\n",
    "    features=fs.features+[last_transaction_amount_batch_remote]\n",
    ")"
   ]
  },
  {
   "cell_type": "code",
   "execution_count": 50,
   "metadata": {
    "tags": []
   },
   "outputs": [
    {
     "data": {
      "text/plain": [
       "FeatureService(info=TectonObjectInfo(id='42f8cbed0b72305969e053f3ff99550f', name='fraud_detection_feature_service_v2', description=None, tags={}, owner=None, workspace=None), _feature_references=[FeatureReference(feature_definition=BatchFeatureView('user_transaction_metrics'), namespace='user_transaction_metrics', features=('TRANSACTION_SUM_1D_1D', 'TRANSACTION_SUM_3D_1D', 'TRANSACTION_SUM_7D_1D', 'TRANSACTION_SUM_40D_1D', 'AMT_MEAN_1D_1D', 'AMT_MEAN_3D_1D', 'AMT_MEAN_7D_1D', 'AMT_MEAN_40D_1D'), override_join_keys={'USER_ID': 'USER_ID'}), FeatureReference(feature_definition=BatchFeatureView('user_category_count'), namespace='user_category_count', features=('TRANSACTION_SUM_1D_1D', 'TRANSACTION_SUM_3D_1D', 'TRANSACTION_SUM_7D_1D', 'TRANSACTION_SUM_40D_1D'), override_join_keys={'USER_ID': 'USER_ID', 'CATEGORY': 'CATEGORY'}), FeatureReference(feature_definition=BatchFeatureView('last_transaction_amount_batch_remote'), namespace='last_transaction_amount_batch_remote', features=None, override_join_keys=None)])"
      ]
     },
     "execution_count": 50,
     "metadata": {},
     "output_type": "execute_result"
    }
   ],
   "source": [
    "fs_v2"
   ]
  },
  {
   "cell_type": "markdown",
   "metadata": {},
   "source": [
    "## Build a spine dataframe"
   ]
  },
  {
   "cell_type": "code",
   "execution_count": 31,
   "metadata": {
    "tags": []
   },
   "outputs": [
    {
     "data": {
      "text/html": [
       "<div>\n",
       "<style scoped>\n",
       "    .dataframe tbody tr th:only-of-type {\n",
       "        vertical-align: middle;\n",
       "    }\n",
       "\n",
       "    .dataframe tbody tr th {\n",
       "        vertical-align: top;\n",
       "    }\n",
       "\n",
       "    .dataframe thead th {\n",
       "        text-align: right;\n",
       "    }\n",
       "</style>\n",
       "<table border=\"1\" class=\"dataframe\">\n",
       "  <thead>\n",
       "    <tr style=\"text-align: right;\">\n",
       "      <th></th>\n",
       "      <th>USER_ID</th>\n",
       "      <th>CATEGORY</th>\n",
       "      <th>TIMESTAMP</th>\n",
       "      <th>is_fraud</th>\n",
       "    </tr>\n",
       "  </thead>\n",
       "  <tbody>\n",
       "    <tr>\n",
       "      <th>0</th>\n",
       "      <td>user_469998441571</td>\n",
       "      <td>shopping_net</td>\n",
       "      <td>2022-04-10 00:00:00+00:00</td>\n",
       "      <td>True</td>\n",
       "    </tr>\n",
       "    <tr>\n",
       "      <th>1</th>\n",
       "      <td>user_469998441571</td>\n",
       "      <td>shopping_net</td>\n",
       "      <td>2022-04-11 00:00:00+00:00</td>\n",
       "      <td>False</td>\n",
       "    </tr>\n",
       "    <tr>\n",
       "      <th>2</th>\n",
       "      <td>user_469998441571</td>\n",
       "      <td>shopping_net</td>\n",
       "      <td>2022-04-11 01:00:00+00:00</td>\n",
       "      <td>False</td>\n",
       "    </tr>\n",
       "    <tr>\n",
       "      <th>3</th>\n",
       "      <td>user_445755474326</td>\n",
       "      <td>misc_pos</td>\n",
       "      <td>2022-04-10 00:00:00+00:00</td>\n",
       "      <td>False</td>\n",
       "    </tr>\n",
       "    <tr>\n",
       "      <th>4</th>\n",
       "      <td>user_445755474326</td>\n",
       "      <td>misc_pos</td>\n",
       "      <td>2022-04-11 00:00:00+00:00</td>\n",
       "      <td>False</td>\n",
       "    </tr>\n",
       "    <tr>\n",
       "      <th>5</th>\n",
       "      <td>user_445755474326</td>\n",
       "      <td>misc_pos</td>\n",
       "      <td>2022-04-11 01:00:00+00:00</td>\n",
       "      <td>False</td>\n",
       "    </tr>\n",
       "  </tbody>\n",
       "</table>\n",
       "</div>"
      ],
      "text/plain": [
       "             USER_ID      CATEGORY                 TIMESTAMP  is_fraud\n",
       "0  user_469998441571  shopping_net 2022-04-10 00:00:00+00:00      True\n",
       "1  user_469998441571  shopping_net 2022-04-11 00:00:00+00:00     False\n",
       "2  user_469998441571  shopping_net 2022-04-11 01:00:00+00:00     False\n",
       "3  user_445755474326      misc_pos 2022-04-10 00:00:00+00:00     False\n",
       "4  user_445755474326      misc_pos 2022-04-11 00:00:00+00:00     False\n",
       "5  user_445755474326      misc_pos 2022-04-11 01:00:00+00:00     False"
      ]
     },
     "execution_count": 31,
     "metadata": {},
     "output_type": "execute_result"
    }
   ],
   "source": [
    "spine = pd.DataFrame([\n",
    "    [\"user_469998441571\", 'shopping_net', pd.Timestamp('2022-04-10 00:00Z'), True],\n",
    "    [\"user_469998441571\", 'shopping_net', pd.Timestamp('2022-04-11 00:00Z'), False],\n",
    "    [\"user_469998441571\", 'shopping_net', pd.Timestamp('2022-04-11 01:00Z'), False],\n",
    "    [\"user_445755474326\", 'misc_pos', pd.Timestamp('2022-04-10 00:00Z'), False],\n",
    "    [\"user_445755474326\", 'misc_pos', pd.Timestamp('2022-04-11 00:00Z'), False],\n",
    "    [\"user_445755474326\", 'misc_pos', pd.Timestamp('2022-04-11 01:00Z'), False]\n",
    "], columns=['USER_ID', 'CATEGORY', 'TIMESTAMP', 'is_fraud'])\n",
    "\n",
    "spine"
   ]
  },
  {
   "cell_type": "markdown",
   "metadata": {
    "tags": []
   },
   "source": [
    "## `get_historical_features` (v1)"
   ]
  },
  {
   "cell_type": "code",
   "execution_count": 32,
   "metadata": {
    "tags": []
   },
   "outputs": [
    {
     "name": "stderr",
     "output_type": "stream",
     "text": [
      "INFO - 02/28/2023 02:55:18 PM - FeatureService - Computing historical feature values for 2 Feature Views.\n",
      "INFO - 02/28/2023 02:55:18 PM - FeatureView - 2 Feature Views are being computed directly from raw data sources.\n",
      "WARNING - 02/28/2023 02:55:22 PM - snowflake.snowpark - create_temp_table is deprecated. We still respect this parameter when it is True but please consider using `table_type=\"temporary\"` instead.\n"
     ]
    }
   ],
   "source": [
    "tdf = fs.get_historical_features(spine)"
   ]
  },
  {
   "cell_type": "code",
   "execution_count": 34,
   "metadata": {
    "tags": []
   },
   "outputs": [
    {
     "name": "stdout",
     "output_type": "stream",
     "text": [
      "--------------------------------------------------------------------------------------------------------------------------------------------------------------------------------------------------------------------------------------------------------------------------------------------------------------------------------------------------------------------------------------------------------------------------------------------------------------------------------------------------------------------------------------------------------------------------------------------------------------------------------------------------------------------------\n",
      "|\"USER_ID\"          |\"CATEGORY\"    |\"TIMESTAMP\"          |\"is_fraud\"  |\"USER_TRANSACTION_METRICS__TRANSACTION_SUM_1D_1D\"  |\"USER_TRANSACTION_METRICS__TRANSACTION_SUM_3D_1D\"  |\"USER_TRANSACTION_METRICS__TRANSACTION_SUM_7D_1D\"  |\"USER_TRANSACTION_METRICS__TRANSACTION_SUM_40D_1D\"  |\"USER_TRANSACTION_METRICS__AMT_MEAN_1D_1D\"  |\"USER_TRANSACTION_METRICS__AMT_MEAN_3D_1D\"  |\"USER_TRANSACTION_METRICS__AMT_MEAN_7D_1D\"  |\"USER_TRANSACTION_METRICS__AMT_MEAN_40D_1D\"  |\"USER_CATEGORY_COUNT__TRANSACTION_SUM_1D_1D\"  |\"USER_CATEGORY_COUNT__TRANSACTION_SUM_3D_1D\"  |\"USER_CATEGORY_COUNT__TRANSACTION_SUM_7D_1D\"  |\"USER_CATEGORY_COUNT__TRANSACTION_SUM_40D_1D\"  |\n",
      "--------------------------------------------------------------------------------------------------------------------------------------------------------------------------------------------------------------------------------------------------------------------------------------------------------------------------------------------------------------------------------------------------------------------------------------------------------------------------------------------------------------------------------------------------------------------------------------------------------------------------------------------------------------------------\n",
      "|user_469998441571  |shopping_net  |2022-04-10 00:00:00  |True        |767                                                |1508                                               |1508                                               |1508                                                |60.32933507170795                           |61.626545092838185                          |61.626545092838185                          |61.626545092838185                           |65                                            |116                                           |116                                           |116                                            |\n",
      "|user_469998441571  |shopping_net  |2022-04-11 00:00:00  |False       |683                                                |2160                                               |2191                                               |2191                                                |57.327950219619346                          |60.49715740740741                           |60.2865449566408                            |60.2865449566408                             |51                                            |165                                           |167                                           |167                                            |\n",
      "|user_469998441571  |shopping_net  |2022-04-11 01:00:00  |False       |683                                                |2160                                               |2191                                               |2191                                                |57.327950219619346                          |60.49715740740741                           |60.2865449566408                            |60.2865449566408                             |51                                            |165                                           |167                                           |167                                            |\n",
      "|user_445755474326  |misc_pos      |2022-04-10 00:00:00  |False       |482                                                |1063                                               |1063                                               |1063                                                |60.27786307053942                           |59.97211665098777                           |59.97211665098777                           |59.97211665098777                            |44                                            |83                                            |83                                            |83                                             |\n",
      "|user_445755474326  |misc_pos      |2022-04-11 00:00:00  |False       |530                                                |1562                                               |1593                                               |1593                                                |61.34405660377358                           |60.582880921895004                          |60.42856873822975                           |60.42856873822975                            |37                                            |120                                           |120                                           |120                                            |\n",
      "|user_445755474326  |misc_pos      |2022-04-11 01:00:00  |False       |530                                                |1562                                               |1593                                               |1593                                                |61.34405660377358                           |60.582880921895004                          |60.42856873822975                           |60.42856873822975                            |37                                            |120                                           |120                                           |120                                            |\n",
      "--------------------------------------------------------------------------------------------------------------------------------------------------------------------------------------------------------------------------------------------------------------------------------------------------------------------------------------------------------------------------------------------------------------------------------------------------------------------------------------------------------------------------------------------------------------------------------------------------------------------------------------------------------------------------\n",
      "\n"
     ]
    }
   ],
   "source": [
    "tdf.to_snowpark().show()"
   ]
  },
  {
   "cell_type": "code",
   "execution_count": 35,
   "metadata": {
    "tags": []
   },
   "outputs": [
    {
     "data": {
      "text/html": [
       "<div>\n",
       "<style scoped>\n",
       "    .dataframe tbody tr th:only-of-type {\n",
       "        vertical-align: middle;\n",
       "    }\n",
       "\n",
       "    .dataframe tbody tr th {\n",
       "        vertical-align: top;\n",
       "    }\n",
       "\n",
       "    .dataframe thead th {\n",
       "        text-align: right;\n",
       "    }\n",
       "</style>\n",
       "<table border=\"1\" class=\"dataframe\">\n",
       "  <thead>\n",
       "    <tr style=\"text-align: right;\">\n",
       "      <th></th>\n",
       "      <th>USER_ID</th>\n",
       "      <th>CATEGORY</th>\n",
       "      <th>TIMESTAMP</th>\n",
       "      <th>is_fraud</th>\n",
       "      <th>USER_TRANSACTION_METRICS__TRANSACTION_SUM_1D_1D</th>\n",
       "      <th>USER_TRANSACTION_METRICS__TRANSACTION_SUM_3D_1D</th>\n",
       "      <th>USER_TRANSACTION_METRICS__TRANSACTION_SUM_7D_1D</th>\n",
       "      <th>USER_TRANSACTION_METRICS__TRANSACTION_SUM_40D_1D</th>\n",
       "      <th>USER_TRANSACTION_METRICS__AMT_MEAN_1D_1D</th>\n",
       "      <th>USER_TRANSACTION_METRICS__AMT_MEAN_3D_1D</th>\n",
       "      <th>USER_TRANSACTION_METRICS__AMT_MEAN_7D_1D</th>\n",
       "      <th>USER_TRANSACTION_METRICS__AMT_MEAN_40D_1D</th>\n",
       "      <th>USER_CATEGORY_COUNT__TRANSACTION_SUM_1D_1D</th>\n",
       "      <th>USER_CATEGORY_COUNT__TRANSACTION_SUM_3D_1D</th>\n",
       "      <th>USER_CATEGORY_COUNT__TRANSACTION_SUM_7D_1D</th>\n",
       "      <th>USER_CATEGORY_COUNT__TRANSACTION_SUM_40D_1D</th>\n",
       "    </tr>\n",
       "  </thead>\n",
       "  <tbody>\n",
       "    <tr>\n",
       "      <th>0</th>\n",
       "      <td>user_469998441571</td>\n",
       "      <td>shopping_net</td>\n",
       "      <td>2022-04-10 00:00:00</td>\n",
       "      <td>True</td>\n",
       "      <td>767</td>\n",
       "      <td>1508</td>\n",
       "      <td>1508</td>\n",
       "      <td>1508</td>\n",
       "      <td>60.329335</td>\n",
       "      <td>61.626545</td>\n",
       "      <td>61.626545</td>\n",
       "      <td>61.626545</td>\n",
       "      <td>65</td>\n",
       "      <td>116</td>\n",
       "      <td>116</td>\n",
       "      <td>116</td>\n",
       "    </tr>\n",
       "    <tr>\n",
       "      <th>1</th>\n",
       "      <td>user_469998441571</td>\n",
       "      <td>shopping_net</td>\n",
       "      <td>2022-04-11 00:00:00</td>\n",
       "      <td>False</td>\n",
       "      <td>683</td>\n",
       "      <td>2160</td>\n",
       "      <td>2191</td>\n",
       "      <td>2191</td>\n",
       "      <td>57.327950</td>\n",
       "      <td>60.497157</td>\n",
       "      <td>60.286545</td>\n",
       "      <td>60.286545</td>\n",
       "      <td>51</td>\n",
       "      <td>165</td>\n",
       "      <td>167</td>\n",
       "      <td>167</td>\n",
       "    </tr>\n",
       "    <tr>\n",
       "      <th>2</th>\n",
       "      <td>user_469998441571</td>\n",
       "      <td>shopping_net</td>\n",
       "      <td>2022-04-11 01:00:00</td>\n",
       "      <td>False</td>\n",
       "      <td>683</td>\n",
       "      <td>2160</td>\n",
       "      <td>2191</td>\n",
       "      <td>2191</td>\n",
       "      <td>57.327950</td>\n",
       "      <td>60.497157</td>\n",
       "      <td>60.286545</td>\n",
       "      <td>60.286545</td>\n",
       "      <td>51</td>\n",
       "      <td>165</td>\n",
       "      <td>167</td>\n",
       "      <td>167</td>\n",
       "    </tr>\n",
       "    <tr>\n",
       "      <th>3</th>\n",
       "      <td>user_445755474326</td>\n",
       "      <td>misc_pos</td>\n",
       "      <td>2022-04-10 00:00:00</td>\n",
       "      <td>False</td>\n",
       "      <td>482</td>\n",
       "      <td>1063</td>\n",
       "      <td>1063</td>\n",
       "      <td>1063</td>\n",
       "      <td>60.277863</td>\n",
       "      <td>59.972117</td>\n",
       "      <td>59.972117</td>\n",
       "      <td>59.972117</td>\n",
       "      <td>44</td>\n",
       "      <td>83</td>\n",
       "      <td>83</td>\n",
       "      <td>83</td>\n",
       "    </tr>\n",
       "    <tr>\n",
       "      <th>4</th>\n",
       "      <td>user_445755474326</td>\n",
       "      <td>misc_pos</td>\n",
       "      <td>2022-04-11 00:00:00</td>\n",
       "      <td>False</td>\n",
       "      <td>530</td>\n",
       "      <td>1562</td>\n",
       "      <td>1593</td>\n",
       "      <td>1593</td>\n",
       "      <td>61.344057</td>\n",
       "      <td>60.582881</td>\n",
       "      <td>60.428569</td>\n",
       "      <td>60.428569</td>\n",
       "      <td>37</td>\n",
       "      <td>120</td>\n",
       "      <td>120</td>\n",
       "      <td>120</td>\n",
       "    </tr>\n",
       "    <tr>\n",
       "      <th>5</th>\n",
       "      <td>user_445755474326</td>\n",
       "      <td>misc_pos</td>\n",
       "      <td>2022-04-11 01:00:00</td>\n",
       "      <td>False</td>\n",
       "      <td>530</td>\n",
       "      <td>1562</td>\n",
       "      <td>1593</td>\n",
       "      <td>1593</td>\n",
       "      <td>61.344057</td>\n",
       "      <td>60.582881</td>\n",
       "      <td>60.428569</td>\n",
       "      <td>60.428569</td>\n",
       "      <td>37</td>\n",
       "      <td>120</td>\n",
       "      <td>120</td>\n",
       "      <td>120</td>\n",
       "    </tr>\n",
       "  </tbody>\n",
       "</table>\n",
       "</div>"
      ],
      "text/plain": [
       "             USER_ID      CATEGORY           TIMESTAMP  is_fraud  \\\n",
       "0  user_469998441571  shopping_net 2022-04-10 00:00:00      True   \n",
       "1  user_469998441571  shopping_net 2022-04-11 00:00:00     False   \n",
       "2  user_469998441571  shopping_net 2022-04-11 01:00:00     False   \n",
       "3  user_445755474326      misc_pos 2022-04-10 00:00:00     False   \n",
       "4  user_445755474326      misc_pos 2022-04-11 00:00:00     False   \n",
       "5  user_445755474326      misc_pos 2022-04-11 01:00:00     False   \n",
       "\n",
       "   USER_TRANSACTION_METRICS__TRANSACTION_SUM_1D_1D  \\\n",
       "0                                              767   \n",
       "1                                              683   \n",
       "2                                              683   \n",
       "3                                              482   \n",
       "4                                              530   \n",
       "5                                              530   \n",
       "\n",
       "   USER_TRANSACTION_METRICS__TRANSACTION_SUM_3D_1D  \\\n",
       "0                                             1508   \n",
       "1                                             2160   \n",
       "2                                             2160   \n",
       "3                                             1063   \n",
       "4                                             1562   \n",
       "5                                             1562   \n",
       "\n",
       "   USER_TRANSACTION_METRICS__TRANSACTION_SUM_7D_1D  \\\n",
       "0                                             1508   \n",
       "1                                             2191   \n",
       "2                                             2191   \n",
       "3                                             1063   \n",
       "4                                             1593   \n",
       "5                                             1593   \n",
       "\n",
       "   USER_TRANSACTION_METRICS__TRANSACTION_SUM_40D_1D  \\\n",
       "0                                              1508   \n",
       "1                                              2191   \n",
       "2                                              2191   \n",
       "3                                              1063   \n",
       "4                                              1593   \n",
       "5                                              1593   \n",
       "\n",
       "   USER_TRANSACTION_METRICS__AMT_MEAN_1D_1D  \\\n",
       "0                                 60.329335   \n",
       "1                                 57.327950   \n",
       "2                                 57.327950   \n",
       "3                                 60.277863   \n",
       "4                                 61.344057   \n",
       "5                                 61.344057   \n",
       "\n",
       "   USER_TRANSACTION_METRICS__AMT_MEAN_3D_1D  \\\n",
       "0                                 61.626545   \n",
       "1                                 60.497157   \n",
       "2                                 60.497157   \n",
       "3                                 59.972117   \n",
       "4                                 60.582881   \n",
       "5                                 60.582881   \n",
       "\n",
       "   USER_TRANSACTION_METRICS__AMT_MEAN_7D_1D  \\\n",
       "0                                 61.626545   \n",
       "1                                 60.286545   \n",
       "2                                 60.286545   \n",
       "3                                 59.972117   \n",
       "4                                 60.428569   \n",
       "5                                 60.428569   \n",
       "\n",
       "   USER_TRANSACTION_METRICS__AMT_MEAN_40D_1D  \\\n",
       "0                                  61.626545   \n",
       "1                                  60.286545   \n",
       "2                                  60.286545   \n",
       "3                                  59.972117   \n",
       "4                                  60.428569   \n",
       "5                                  60.428569   \n",
       "\n",
       "   USER_CATEGORY_COUNT__TRANSACTION_SUM_1D_1D  \\\n",
       "0                                          65   \n",
       "1                                          51   \n",
       "2                                          51   \n",
       "3                                          44   \n",
       "4                                          37   \n",
       "5                                          37   \n",
       "\n",
       "   USER_CATEGORY_COUNT__TRANSACTION_SUM_3D_1D  \\\n",
       "0                                         116   \n",
       "1                                         165   \n",
       "2                                         165   \n",
       "3                                          83   \n",
       "4                                         120   \n",
       "5                                         120   \n",
       "\n",
       "   USER_CATEGORY_COUNT__TRANSACTION_SUM_7D_1D  \\\n",
       "0                                         116   \n",
       "1                                         167   \n",
       "2                                         167   \n",
       "3                                          83   \n",
       "4                                         120   \n",
       "5                                         120   \n",
       "\n",
       "   USER_CATEGORY_COUNT__TRANSACTION_SUM_40D_1D  \n",
       "0                                          116  \n",
       "1                                          167  \n",
       "2                                          167  \n",
       "3                                           83  \n",
       "4                                          120  \n",
       "5                                          120  "
      ]
     },
     "execution_count": 35,
     "metadata": {},
     "output_type": "execute_result"
    }
   ],
   "source": [
    "tdf.to_pandas()"
   ]
  },
  {
   "cell_type": "markdown",
   "metadata": {
    "tags": []
   },
   "source": [
    "## `get_historical_features` v2"
   ]
  },
  {
   "cell_type": "code",
   "execution_count": 55,
   "metadata": {
    "tags": []
   },
   "outputs": [
    {
     "name": "stdout",
     "output_type": "stream",
     "text": [
      "FeatureService 'fraud_detection_feature_service_v2': Validating 1 of 3 dependencies. (2 already validated)\n",
      "    BatchFeatureView 'last_transaction_amount_batch_remote': Validating 1 of 3 dependencies. (2 already validated)\n",
      "        Transformation 'last_transaction_amount_batch_remote': Successfully validated.\n",
      "    BatchFeatureView 'last_transaction_amount_batch_remote': Successfully validated.\n",
      "FeatureService 'fraud_detection_feature_service_v2': Successfully validated.\n"
     ]
    },
    {
     "name": "stderr",
     "output_type": "stream",
     "text": [
      "INFO - 02/28/2023 03:03:46 PM - FeatureService - Computing historical feature values for 3 Feature Views.\n",
      "INFO - 02/28/2023 03:03:46 PM - FeatureView - 3 Feature Views are being computed directly from raw data sources.\n"
     ]
    }
   ],
   "source": [
    "tdf = fs_v2.get_historical_features(spine)"
   ]
  },
  {
   "cell_type": "code",
   "execution_count": 56,
   "metadata": {
    "tags": []
   },
   "outputs": [],
   "source": [
    "pdf = tdf.to_pandas()"
   ]
  },
  {
   "cell_type": "code",
   "execution_count": 57,
   "metadata": {
    "tags": []
   },
   "outputs": [
    {
     "data": {
      "text/plain": [
       "Index(['USER_ID', 'CATEGORY', 'TIMESTAMP', 'is_fraud',\n",
       "       'USER_TRANSACTION_METRICS__TRANSACTION_SUM_1D_1D',\n",
       "       'USER_TRANSACTION_METRICS__TRANSACTION_SUM_3D_1D',\n",
       "       'USER_TRANSACTION_METRICS__TRANSACTION_SUM_7D_1D',\n",
       "       'USER_TRANSACTION_METRICS__TRANSACTION_SUM_40D_1D',\n",
       "       'USER_TRANSACTION_METRICS__AMT_MEAN_1D_1D',\n",
       "       'USER_TRANSACTION_METRICS__AMT_MEAN_3D_1D',\n",
       "       'USER_TRANSACTION_METRICS__AMT_MEAN_7D_1D',\n",
       "       'USER_TRANSACTION_METRICS__AMT_MEAN_40D_1D',\n",
       "       'USER_CATEGORY_COUNT__TRANSACTION_SUM_1D_1D',\n",
       "       'USER_CATEGORY_COUNT__TRANSACTION_SUM_3D_1D',\n",
       "       'USER_CATEGORY_COUNT__TRANSACTION_SUM_7D_1D',\n",
       "       'USER_CATEGORY_COUNT__TRANSACTION_SUM_40D_1D',\n",
       "       'LAST_TRANSACTION_AMOUNT_BATCH_REMOTE__AMT',\n",
       "       'LAST_TRANSACTION_AMOUNT_BATCH_REMOTE__AMT_PLUS_X'],\n",
       "      dtype='object')"
      ]
     },
     "execution_count": 57,
     "metadata": {},
     "output_type": "execute_result"
    }
   ],
   "source": [
    "pdf.columns"
   ]
  },
  {
   "cell_type": "code",
   "execution_count": 60,
   "metadata": {
    "tags": []
   },
   "outputs": [
    {
     "data": {
      "text/html": [
       "<div>\n",
       "<style scoped>\n",
       "    .dataframe tbody tr th:only-of-type {\n",
       "        vertical-align: middle;\n",
       "    }\n",
       "\n",
       "    .dataframe tbody tr th {\n",
       "        vertical-align: top;\n",
       "    }\n",
       "\n",
       "    .dataframe thead th {\n",
       "        text-align: right;\n",
       "    }\n",
       "</style>\n",
       "<table border=\"1\" class=\"dataframe\">\n",
       "  <thead>\n",
       "    <tr style=\"text-align: right;\">\n",
       "      <th></th>\n",
       "      <th>USER_ID</th>\n",
       "      <th>CATEGORY</th>\n",
       "      <th>LAST_TRANSACTION_AMOUNT_BATCH_REMOTE__AMT</th>\n",
       "      <th>LAST_TRANSACTION_AMOUNT_BATCH_REMOTE__AMT_PLUS_X</th>\n",
       "      <th>TIMESTAMP</th>\n",
       "    </tr>\n",
       "  </thead>\n",
       "  <tbody>\n",
       "    <tr>\n",
       "      <th>0</th>\n",
       "      <td>user_469998441571</td>\n",
       "      <td>shopping_net</td>\n",
       "      <td>88.79</td>\n",
       "      <td>90.79</td>\n",
       "      <td>2022-04-10 00:00:00</td>\n",
       "    </tr>\n",
       "    <tr>\n",
       "      <th>1</th>\n",
       "      <td>user_469998441571</td>\n",
       "      <td>shopping_net</td>\n",
       "      <td>38.96</td>\n",
       "      <td>40.96</td>\n",
       "      <td>2022-04-11 00:00:00</td>\n",
       "    </tr>\n",
       "    <tr>\n",
       "      <th>2</th>\n",
       "      <td>user_469998441571</td>\n",
       "      <td>shopping_net</td>\n",
       "      <td>39.65</td>\n",
       "      <td>41.65</td>\n",
       "      <td>2022-04-11 01:00:00</td>\n",
       "    </tr>\n",
       "    <tr>\n",
       "      <th>3</th>\n",
       "      <td>user_445755474326</td>\n",
       "      <td>misc_pos</td>\n",
       "      <td>1.56</td>\n",
       "      <td>3.56</td>\n",
       "      <td>2022-04-10 00:00:00</td>\n",
       "    </tr>\n",
       "    <tr>\n",
       "      <th>4</th>\n",
       "      <td>user_445755474326</td>\n",
       "      <td>misc_pos</td>\n",
       "      <td>107.95</td>\n",
       "      <td>109.95</td>\n",
       "      <td>2022-04-11 00:00:00</td>\n",
       "    </tr>\n",
       "    <tr>\n",
       "      <th>5</th>\n",
       "      <td>user_445755474326</td>\n",
       "      <td>misc_pos</td>\n",
       "      <td>29.26</td>\n",
       "      <td>31.26</td>\n",
       "      <td>2022-04-11 01:00:00</td>\n",
       "    </tr>\n",
       "  </tbody>\n",
       "</table>\n",
       "</div>"
      ],
      "text/plain": [
       "             USER_ID      CATEGORY  LAST_TRANSACTION_AMOUNT_BATCH_REMOTE__AMT  \\\n",
       "0  user_469998441571  shopping_net                                      88.79   \n",
       "1  user_469998441571  shopping_net                                      38.96   \n",
       "2  user_469998441571  shopping_net                                      39.65   \n",
       "3  user_445755474326      misc_pos                                       1.56   \n",
       "4  user_445755474326      misc_pos                                     107.95   \n",
       "5  user_445755474326      misc_pos                                      29.26   \n",
       "\n",
       "   LAST_TRANSACTION_AMOUNT_BATCH_REMOTE__AMT_PLUS_X           TIMESTAMP  \n",
       "0                                             90.79 2022-04-10 00:00:00  \n",
       "1                                             40.96 2022-04-11 00:00:00  \n",
       "2                                             41.65 2022-04-11 01:00:00  \n",
       "3                                              3.56 2022-04-10 00:00:00  \n",
       "4                                            109.95 2022-04-11 00:00:00  \n",
       "5                                             31.26 2022-04-11 01:00:00  "
      ]
     },
     "execution_count": 60,
     "metadata": {},
     "output_type": "execute_result"
    }
   ],
   "source": [
    "pdf[['USER_ID', 'CATEGORY', \n",
    "     'LAST_TRANSACTION_AMOUNT_BATCH_REMOTE__AMT', 'LAST_TRANSACTION_AMOUNT_BATCH_REMOTE__AMT_PLUS_X', \n",
    "     'TIMESTAMP']]"
   ]
  },
  {
   "cell_type": "markdown",
   "metadata": {
    "jp-MarkdownHeadingCollapsed": true,
    "tags": []
   },
   "source": [
    "# Apply our new feature view + feature service into our repository!"
   ]
  },
  {
   "cell_type": "markdown",
   "metadata": {},
   "source": [
    "So far, all of our development has been done locally in our Jupyter instance. We're happy with our work so far and we want to push it to a workspace in Tecton so we can do additional integration testing and/or push to production:\n",
    "\n",
    "The steps are:\n",
    "* Copy and paste the feature view and feature service definitions into the repository's `.py` files\n",
    "* Log into your cluster (`tecton login https://...`) and select or create a workspace (`tecton workspace create ...` or `tecton workspace select ...`)\n",
    "* Run a `tecton plan` to inspect your features\n",
    "* Once satisfied, run `tecton apply` to push your features to the workspace"
   ]
  },
  {
   "cell_type": "markdown",
   "metadata": {},
   "source": [
    "Now let's test our feature service!"
   ]
  },
  {
   "cell_type": "code",
   "execution_count": null,
   "metadata": {
    "tags": []
   },
   "outputs": [],
   "source": [
    "fs_v2_remote = ws.get_feature_service('fraud_detection_feature_service_v2')"
   ]
  },
  {
   "cell_type": "code",
   "execution_count": null,
   "metadata": {},
   "outputs": [],
   "source": [
    "# We'll use the spine dataframe we defined above\n",
    "tdf = fs_v2_remote.get_historical_features(spine)"
   ]
  },
  {
   "cell_type": "code",
   "execution_count": null,
   "metadata": {},
   "outputs": [],
   "source": [
    "tdf.to_snowpark().show()"
   ]
  },
  {
   "cell_type": "markdown",
   "metadata": {
    "application/vnd.databricks.v1+cell": {
     "cellMetadata": {},
     "inputWidgets": {},
     "nuid": "28e73dc1-2fbb-4305-9ff1-0f5b4a425f7d",
     "showTitle": false,
     "title": ""
    },
    "jp-MarkdownHeadingCollapsed": true,
    "tags": []
   },
   "source": [
    "# Get real-time features from your REST API"
   ]
  },
  {
   "cell_type": "markdown",
   "metadata": {},
   "source": [
    "Once you've tested your features to make sure they work (and check out our Unit Testing capabilities!), if you need real-time serving, there are just a couple more steps:\n",
    "\n",
    "* Create or select a **live** workspace. This is a workspace with materialization switched on.\n",
    "* Wait for your features to materialize. You can check the Web UI for more details here.\n",
    "* Create or use a service account and grant it at least `Consumer` level privileges\n",
    "* Use the API key associated with the service account to retrieve features.\n",
    "\n",
    "You can use any language to retrieve features, since it's just a REST API call. We suggest using native http requests libraries in your language (such as `requests` perhaps with `asyncio` with Python), or if you're on Java, check out our high-performance REST API client [here](https://github.com/tecton-ai/tecton-http-client-java) (also available on maven)."
   ]
  },
  {
   "cell_type": "code",
   "execution_count": 61,
   "metadata": {
    "tags": []
   },
   "outputs": [],
   "source": [
    "import requests\n",
    "import json"
   ]
  },
  {
   "cell_type": "markdown",
   "metadata": {},
   "source": [
    "Let's formulate the request data packet. You can use our [API reference documentation](https://docs.tecton.ai/http-api) and [this docs page](https://docs.tecton.ai/docs/reading-feature-data/reading-feature-data-for-inference/reading-online-features-for-inference-using-the-http-api/#metadata-options-for-the-http-api) for information on the metadata you can retrieve on your features."
   ]
  },
  {
   "cell_type": "code",
   "execution_count": 62,
   "metadata": {
    "tags": []
   },
   "outputs": [],
   "source": [
    "request_data = json.dumps(\n",
    "    {\n",
    "        'params': {\n",
    "            'feature_service_name': 'fraud_detection_feature_service',\n",
    "            'join_key_map': {\n",
    "                'USER_ID': 'user_469998441571',\n",
    "                'CATEGORY': 'fraud'\n",
    "            },\n",
    "            'workspace_name': 'tecton-training-102-live',\n",
    "            'metadata_options': {\n",
    "                \"include_names\": True,\n",
    "                \"include_effective_times\": True,\n",
    "                \"include_data_types\": True,\n",
    "                \"include_slo_info\": True,\n",
    "                'include_serving_status': True\n",
    "            } \n",
    "        }\n",
    "    }\n",
    "\n",
    ")"
   ]
  },
  {
   "cell_type": "markdown",
   "metadata": {},
   "source": [
    "Let's make the post request (we're reading the `REST_API_KEY` variable from the .env file and/or environment variable)"
   ]
  },
  {
   "cell_type": "code",
   "execution_count": 63,
   "metadata": {
    "tags": []
   },
   "outputs": [],
   "source": [
    "r = requests.post(\n",
    "    url='https://dev-snowflake.tecton.ai/api/v1/feature-service/get-features',\n",
    "    headers={\n",
    "        'Authorization': f\"Tecton-key {os.environ['REST_API_KEY']}\"\n",
    "    },\n",
    "    data=request_data\n",
    ")"
   ]
  },
  {
   "cell_type": "markdown",
   "metadata": {},
   "source": [
    "Now we examine the output"
   ]
  },
  {
   "cell_type": "code",
   "execution_count": 64,
   "metadata": {
    "tags": []
   },
   "outputs": [
    {
     "data": {
      "text/plain": [
       "200"
      ]
     },
     "execution_count": 64,
     "metadata": {},
     "output_type": "execute_result"
    }
   ],
   "source": [
    "r.status_code"
   ]
  },
  {
   "cell_type": "code",
   "execution_count": 65,
   "metadata": {
    "tags": []
   },
   "outputs": [],
   "source": [
    "res = json.loads(r.text)"
   ]
  },
  {
   "cell_type": "code",
   "execution_count": 66,
   "metadata": {
    "tags": []
   },
   "outputs": [
    {
     "data": {
      "text/plain": [
       "{'features': [None,\n",
       "  None,\n",
       "  None,\n",
       "  None,\n",
       "  54.569518248175186,\n",
       "  57.43892337536372,\n",
       "  60.66241346470824,\n",
       "  60.405883859948766,\n",
       "  '685',\n",
       "  '2062',\n",
       "  '27301',\n",
       "  '4684']}"
      ]
     },
     "execution_count": 66,
     "metadata": {},
     "output_type": "execute_result"
    }
   ],
   "source": [
    "res['result']"
   ]
  },
  {
   "cell_type": "markdown",
   "metadata": {},
   "source": [
    "This next line is the full result that includes a lot of metadata. In a production environment, you'll probably want to omit the metadata for every call."
   ]
  },
  {
   "cell_type": "code",
   "execution_count": 67,
   "metadata": {
    "tags": []
   },
   "outputs": [
    {
     "data": {
      "text/plain": [
       "{'result': {'features': [None,\n",
       "   None,\n",
       "   None,\n",
       "   None,\n",
       "   54.569518248175186,\n",
       "   57.43892337536372,\n",
       "   60.66241346470824,\n",
       "   60.405883859948766,\n",
       "   '685',\n",
       "   '2062',\n",
       "   '27301',\n",
       "   '4684']},\n",
       " 'metadata': {'features': [{'name': 'user_category_count.TRANSACTION_SUM_1D_1D',\n",
       "    'effectiveTime': '2023-02-27T00:00:00Z',\n",
       "    'dataType': {'type': 'int64'},\n",
       "    'status': 'MISSING_DATA'},\n",
       "   {'name': 'user_category_count.TRANSACTION_SUM_3D_1D',\n",
       "    'effectiveTime': '2023-02-27T00:00:00Z',\n",
       "    'dataType': {'type': 'int64'},\n",
       "    'status': 'MISSING_DATA'},\n",
       "   {'name': 'user_category_count.TRANSACTION_SUM_40D_1D',\n",
       "    'effectiveTime': '2023-02-27T00:00:00Z',\n",
       "    'dataType': {'type': 'int64'},\n",
       "    'status': 'MISSING_DATA'},\n",
       "   {'name': 'user_category_count.TRANSACTION_SUM_7D_1D',\n",
       "    'effectiveTime': '2023-02-27T00:00:00Z',\n",
       "    'dataType': {'type': 'int64'},\n",
       "    'status': 'MISSING_DATA'},\n",
       "   {'name': 'user_transaction_metrics.AMT_MEAN_1D_1D',\n",
       "    'effectiveTime': '2023-02-27T00:00:00Z',\n",
       "    'dataType': {'type': 'float64'},\n",
       "    'status': 'PRESENT'},\n",
       "   {'name': 'user_transaction_metrics.AMT_MEAN_3D_1D',\n",
       "    'effectiveTime': '2023-02-27T00:00:00Z',\n",
       "    'dataType': {'type': 'float64'},\n",
       "    'status': 'PRESENT'},\n",
       "   {'name': 'user_transaction_metrics.AMT_MEAN_40D_1D',\n",
       "    'effectiveTime': '2023-02-27T00:00:00Z',\n",
       "    'dataType': {'type': 'float64'},\n",
       "    'status': 'PRESENT'},\n",
       "   {'name': 'user_transaction_metrics.AMT_MEAN_7D_1D',\n",
       "    'effectiveTime': '2023-02-27T00:00:00Z',\n",
       "    'dataType': {'type': 'float64'},\n",
       "    'status': 'PRESENT'},\n",
       "   {'name': 'user_transaction_metrics.TRANSACTION_SUM_1D_1D',\n",
       "    'effectiveTime': '2023-02-27T00:00:00Z',\n",
       "    'dataType': {'type': 'int64'},\n",
       "    'status': 'PRESENT'},\n",
       "   {'name': 'user_transaction_metrics.TRANSACTION_SUM_3D_1D',\n",
       "    'effectiveTime': '2023-02-27T00:00:00Z',\n",
       "    'dataType': {'type': 'int64'},\n",
       "    'status': 'PRESENT'},\n",
       "   {'name': 'user_transaction_metrics.TRANSACTION_SUM_40D_1D',\n",
       "    'effectiveTime': '2023-02-27T00:00:00Z',\n",
       "    'dataType': {'type': 'int64'},\n",
       "    'status': 'PRESENT'},\n",
       "   {'name': 'user_transaction_metrics.TRANSACTION_SUM_7D_1D',\n",
       "    'effectiveTime': '2023-02-27T00:00:00Z',\n",
       "    'dataType': {'type': 'int64'},\n",
       "    'status': 'PRESENT'}],\n",
       "  'sloInfo': {'sloEligible': True,\n",
       "   'sloServerTimeSeconds': 0.054441643,\n",
       "   'dynamodbResponseSizeBytes': 2112,\n",
       "   'serverTimeSeconds': 0.054441643,\n",
       "   'storeMaxLatency': 0,\n",
       "   'storeResponseSizeBytes': 2112}}}"
      ]
     },
     "execution_count": 67,
     "metadata": {},
     "output_type": "execute_result"
    }
   ],
   "source": [
    "res"
   ]
  }
 ],
 "metadata": {
  "application/vnd.databricks.v1+notebook": {
   "dashboards": [],
   "language": "python",
   "notebookMetadata": {
    "mostRecentlyExecutedCommandWithImplicitDF": {
     "commandId": 3665980919140617,
     "dataframes": [
      "_sqldf"
     ]
    },
    "pythonIndentUnit": 2
   },
   "notebookName": "ndd_feature_service (2)",
   "notebookOrigID": 397099394553121,
   "widgets": {}
  },
  "kernelspec": {
   "display_name": "Python 3 (ipykernel)",
   "language": "python",
   "name": "python3"
  },
  "language_info": {
   "codemirror_mode": {
    "name": "ipython",
    "version": 3
   },
   "file_extension": ".py",
   "mimetype": "text/x-python",
   "name": "python",
   "nbconvert_exporter": "python",
   "pygments_lexer": "ipython3",
   "version": "3.8.16"
  },
  "vscode": {
   "interpreter": {
    "hash": "aba455fa597a7c56079ecbcca10fe0ea0e36ccea185e88cba0d5f6274cb64de0"
   }
  }
 },
 "nbformat": 4,
 "nbformat_minor": 4
}
